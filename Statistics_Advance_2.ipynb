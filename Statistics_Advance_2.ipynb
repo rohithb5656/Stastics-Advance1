{
  "cells": [
    {
      "cell_type": "markdown",
      "source": [
        "## 📘 Part 1: All Theory Questions and Answers\n",
        "\n",
        "**1. What is a random variable in probability theory?**\n",
        "A random variable is a numerical outcome of a random phenomenon. It maps outcomes of a random process to numerical values.\n",
        "\n",
        "**2. What are the types of random variables?**\n",
        "There are two types: Discrete (countable values) and Continuous (infinite values in a range).\n",
        "\n",
        "**3. What is the difference between discrete and continuous distributions?**\n",
        "Discrete distributions consist of distinct values, while continuous distributions represent values over a continuous range.\n",
        "\n",
        "**4. What are probability distribution functions (PDF)?**\n",
        "PDF describes the likelihood of a continuous random variable taking on a specific value.\n",
        "\n",
        "**5. How do cumulative distribution functions (CDF) differ from PDF?**\n",
        "CDF gives the probability that a random variable is less than or equal to a value, while PDF gives probability density.\n",
        "\n",
        "**6. What is a discrete uniform distribution?**\n",
        "It assigns equal probabilities to all outcomes in a finite set.\n",
        "\n",
        "**7. What are the key properties of a Bernoulli distribution?**\n",
        "Two outcomes (0 and 1), one trial, mean = p, variance = p(1-p).\n",
        "\n",
        "**8. What is the binomial distribution, and how is it used in probability?**\n",
        "It describes the number of successes in n independent Bernoulli trials with probability p.\n",
        "\n",
        "**9. What is the Poisson distribution and where is it applied?**\n",
        "It models number of events in a fixed interval when events occur independently.\n",
        "\n",
        "**10. What is a continuous uniform distribution?**\n",
        "A distribution where all values in a range [a, b] are equally likely.\n",
        "\n",
        "**11. What are the characteristics of a normal distribution?**\n",
        "Bell-shaped, symmetric, mean = median = mode.\n",
        "\n",
        "**12. What is the standard normal distribution, and why is it important?**\n",
        "A normal distribution with mean 0 and std dev 1. Used for standardization.\n",
        "\n",
        "**13. What is the Central Limit Theorem (CLT), and why is it critical in statistics?**\n",
        "CLT states that the sampling distribution of the mean approaches a normal distribution as sample size increases.\n",
        "\n",
        "**14. How does the Central Limit Theorem relate to the normal distribution?**\n",
        "It justifies using the normal distribution to approximate sample means.\n",
        "\n",
        "**15. What is the application of Z statistics in hypothesis testing?**\n",
        "Z-statistics determine if there's a significant difference between sample and population means.\n",
        "\n",
        "**16. How do you calculate a Z-score, and what does it represent?**\n",
        "Z = (X - μ) / σ. Represents how many std deviations a value is from the mean.\n",
        "\n",
        "**17. What are point estimates and interval estimates in statistics?**\n",
        "Point: single value; Interval: range likely containing population parameter.\n",
        "\n",
        "**18. What is the significance of confidence intervals in statistical analysis?**\n",
        "They provide a range in which the population parameter is expected to fall with a certain level of confidence.\n",
        "\n",
        "**19. What is the relationship between a Z-score and a confidence interval?**\n",
        "Z-scores are used to compute confidence intervals by defining the margin of error.\n",
        "\n",
        "**20. How are Z-scores used to compare different distributions?**\n",
        "Z-scores standardize values across distributions for comparison.\n",
        "\n",
        "**21. What are the assumptions for applying the Central Limit Theorem?**\n",
        "Independent samples, identically distributed, sufficiently large sample size.\n",
        "\n",
        "**22. What is the concept of expected value in a probability distribution?**\n",
        "The expected value is the weighted average of all possible values.\n",
        "\n",
        "**23. How does a probability distribution relate to the expected outcome of a random variable?**\n",
        "It defines the likelihood of different outcomes, influencing the expected value.\n",
        "\n"
      ],
      "metadata": {
        "id": "dcyxD-NAWmnX"
      },
      "id": "dcyxD-NAWmnX"
    },
    {
      "cell_type": "markdown",
      "source": [
        "## 🧪 Practical 1: Simulate multiple samples from a normal distribution and verify the Central Limit Theorem"
      ],
      "metadata": {
        "id": "FZ_MPYD1WgIT"
      },
      "id": "FZ_MPYD1WgIT"
    },
    {
      "cell_type": "code",
      "execution_count": null,
      "id": "57c98ed7",
      "metadata": {
        "id": "57c98ed7"
      },
      "outputs": [],
      "source": [
        "means = [np.mean(np.random.normal(loc=0, scale=1, size=30)) for _ in range(1000)]\n",
        "plt.hist(means, bins=30, edgecolor='black')\n",
        "plt.title('CLT with Normal Distribution')\n",
        "plt.xlabel('Sample Mean')\n",
        "plt.ylabel('Frequency')\n",
        "plt.show()"
      ]
    },
    {
      "cell_type": "markdown",
      "id": "c36a0eba",
      "metadata": {
        "id": "c36a0eba"
      },
      "source": [
        "## 🧪 Practical 2: Calculate and plot the standard normal distribution (mean = 0, std = 1)"
      ]
    },
    {
      "cell_type": "code",
      "execution_count": null,
      "id": "1ff92195",
      "metadata": {
        "id": "1ff92195"
      },
      "outputs": [],
      "source": [
        "x = np.linspace(-4, 4, 1000)\n",
        "y = norm.pdf(x, 0, 1)\n",
        "plt.plot(x, y)\n",
        "plt.title('Standard Normal Distribution')\n",
        "plt.grid(True)\n",
        "plt.show()"
      ]
    },
    {
      "cell_type": "markdown",
      "id": "202c0589",
      "metadata": {
        "id": "202c0589"
      },
      "source": [
        "## 🧪 Practical 3: Generate random variables and calculate probabilities using the binomial distribution"
      ]
    },
    {
      "cell_type": "code",
      "execution_count": null,
      "id": "1689f849",
      "metadata": {
        "id": "1689f849"
      },
      "outputs": [],
      "source": [
        "prob = binom.pmf(5, n=10, p=0.5)\n",
        "print('P(X=5):', prob)"
      ]
    },
    {
      "cell_type": "markdown",
      "id": "b6e3e2d2",
      "metadata": {
        "id": "b6e3e2d2"
      },
      "source": [
        "## 🧪 Practical 4: Calculate the Z-score for a data point and compare it to a standard normal distribution"
      ]
    },
    {
      "cell_type": "code",
      "execution_count": null,
      "id": "afa9ad66",
      "metadata": {
        "id": "afa9ad66"
      },
      "outputs": [],
      "source": [
        "value, mean, std = 75, 70, 5\n",
        "z = (value - mean) / std\n",
        "print('Z-score:', z)\n",
        "print('P(Z < value):', norm.cdf(z))"
      ]
    },
    {
      "cell_type": "markdown",
      "id": "7a66c9c9",
      "metadata": {
        "id": "7a66c9c9"
      },
      "source": [
        "## 🧪 Practical 5: Implement hypothesis testing using Z-statistics for a sample dataset"
      ]
    },
    {
      "cell_type": "code",
      "execution_count": null,
      "id": "17b1eeed",
      "metadata": {
        "id": "17b1eeed"
      },
      "outputs": [],
      "source": [
        "sample_mean, pop_mean, std, n = 52, 50, 10, 30\n",
        "z = (sample_mean - pop_mean) / (std / np.sqrt(n))\n",
        "p_value = 1 - norm.cdf(z)\n",
        "print('Z-statistic:', z)\n",
        "print('P-value:', p_value)"
      ]
    },
    {
      "cell_type": "markdown",
      "id": "48741956",
      "metadata": {
        "id": "48741956"
      },
      "source": [
        "## 🧪 Practical 6: Create a confidence interval for a dataset using Python and interpret the result"
      ]
    },
    {
      "cell_type": "code",
      "execution_count": null,
      "id": "e05a3642",
      "metadata": {
        "id": "e05a3642"
      },
      "outputs": [],
      "source": [
        "data = np.random.normal(100, 15, 100)\n",
        "mean = np.mean(data)\n",
        "std = np.std(data, ddof=1)\n",
        "z = 1.96\n",
        "margin_error = z * (std / np.sqrt(len(data)))\n",
        "ci = (mean - margin_error, mean + margin_error)\n",
        "print('95% Confidence Interval:', ci)"
      ]
    },
    {
      "cell_type": "markdown",
      "id": "0b8ecb10",
      "metadata": {
        "id": "0b8ecb10"
      },
      "source": [
        "## 🧪 Practical 7: Generate data from a normal distribution and calculate confidence interval for the mean"
      ]
    },
    {
      "cell_type": "code",
      "execution_count": null,
      "id": "441d1736",
      "metadata": {
        "id": "441d1736"
      },
      "outputs": [],
      "source": [
        "data = np.random.normal(50, 10, 200)\n",
        "mean = np.mean(data)\n",
        "std = np.std(data, ddof=1)\n",
        "z = 1.96\n",
        "margin_error = z * (std / np.sqrt(len(data)))\n",
        "print('Confidence Interval:', (mean - margin_error, mean + margin_error))"
      ]
    },
    {
      "cell_type": "markdown",
      "id": "df74ade9",
      "metadata": {
        "id": "df74ade9"
      },
      "source": [
        "## 🧪 Practical 8: Calculate and visualize the PDF of a normal distribution"
      ]
    },
    {
      "cell_type": "code",
      "execution_count": null,
      "id": "11165f9d",
      "metadata": {
        "id": "11165f9d"
      },
      "outputs": [],
      "source": [
        "x = np.linspace(-5, 5, 1000)\n",
        "y = norm.pdf(x)\n",
        "plt.plot(x, y)\n",
        "plt.title('PDF of Normal Distribution')\n",
        "plt.grid(True)\n",
        "plt.show()"
      ]
    },
    {
      "cell_type": "markdown",
      "id": "da098755",
      "metadata": {
        "id": "da098755"
      },
      "source": [
        "## 🧪 Practical 9: Calculate and interpret the CDF of a Poisson distribution"
      ]
    },
    {
      "cell_type": "code",
      "execution_count": null,
      "id": "8270a469",
      "metadata": {
        "id": "8270a469"
      },
      "outputs": [],
      "source": [
        "cdf = poisson.cdf(np.arange(0, 10), mu=3)\n",
        "print('Poisson CDF:', cdf)"
      ]
    },
    {
      "cell_type": "markdown",
      "id": "6be4416c",
      "metadata": {
        "id": "6be4416c"
      },
      "source": [
        "## 🧪 Practical 10: Simulate a random variable using continuous uniform distribution and calculate expected value"
      ]
    },
    {
      "cell_type": "code",
      "execution_count": null,
      "id": "1ab4aa9a",
      "metadata": {
        "id": "1ab4aa9a"
      },
      "outputs": [],
      "source": [
        "samples = np.random.uniform(10, 20, 1000)\n",
        "expected_value = np.mean(samples)\n",
        "print('Expected Value:', expected_value)"
      ]
    },
    {
      "cell_type": "markdown",
      "id": "c54b458d",
      "metadata": {
        "id": "c54b458d"
      },
      "source": [
        "## 🧪 Practical 11: Compare the standard deviations of two datasets and visualize the difference"
      ]
    },
    {
      "cell_type": "code",
      "execution_count": null,
      "id": "974d35db",
      "metadata": {
        "id": "974d35db"
      },
      "outputs": [],
      "source": [
        "a = np.random.normal(0, 1, 1000)\n",
        "b = np.random.normal(0, 5, 1000)\n",
        "plt.hist(a, bins=30, alpha=0.5, label='std=1')\n",
        "plt.hist(b, bins=30, alpha=0.5, label='std=5')\n",
        "plt.legend()\n",
        "plt.title('Comparison of Standard Deviations')\n",
        "plt.show()"
      ]
    },
    {
      "cell_type": "markdown",
      "id": "d5889c82",
      "metadata": {
        "id": "d5889c82"
      },
      "source": [
        "## 🧪 Practical 12: Calculate the range and interquartile range (IQR) of a dataset"
      ]
    },
    {
      "cell_type": "code",
      "execution_count": null,
      "id": "afc25195",
      "metadata": {
        "id": "afc25195"
      },
      "outputs": [],
      "source": [
        "data = np.random.normal(100, 20, 500)\n",
        "data_range = np.max(data) - np.min(data)\n",
        "q1 = np.percentile(data, 25)\n",
        "q3 = np.percentile(data, 75)\n",
        "iqr = q3 - q1\n",
        "print('Range:', data_range)\n",
        "print('IQR:', iqr)"
      ]
    },
    {
      "cell_type": "markdown",
      "id": "6e683f69",
      "metadata": {
        "id": "6e683f69"
      },
      "source": [
        "## 🧪 Practical 13: Implement Z-score normalization on a dataset and visualize its transformation"
      ]
    },
    {
      "cell_type": "code",
      "execution_count": null,
      "id": "cfd62e2f",
      "metadata": {
        "id": "cfd62e2f"
      },
      "outputs": [],
      "source": [
        "raw_data = np.random.normal(80, 10, 100)\n",
        "z_norm = zscore(raw_data)\n",
        "plt.plot(z_norm, '.')\n",
        "plt.title('Z-score Normalized Data')\n",
        "plt.grid(True)\n",
        "plt.show()"
      ]
    },
    {
      "cell_type": "markdown",
      "id": "f08369c7",
      "metadata": {
        "id": "f08369c7"
      },
      "source": [
        "## 🧪 Practical 14: Calculate the skewness and kurtosis of a dataset from a normal distribution"
      ]
    },
    {
      "cell_type": "code",
      "execution_count": null,
      "id": "11b3723d",
      "metadata": {
        "id": "11b3723d"
      },
      "outputs": [],
      "source": [
        "sample = np.random.normal(0, 1, 1000)\n",
        "print('Skewness:', skew(sample))\n",
        "print('Kurtosis:', kurtosis(sample))"
      ]
    },
    {
      "cell_type": "markdown",
      "id": "e9e83631",
      "metadata": {
        "id": "e9e83631"
      },
      "source": [
        "## 🧪 Practical 15: Generate a random variable and display its value"
      ]
    },
    {
      "cell_type": "code",
      "execution_count": null,
      "id": "19041084",
      "metadata": {
        "id": "19041084"
      },
      "outputs": [],
      "source": [
        "random_value = np.random.rand()\n",
        "print(\"Random Variable:\", random_value)"
      ]
    },
    {
      "cell_type": "markdown",
      "id": "fd2546fa",
      "metadata": {
        "id": "fd2546fa"
      },
      "source": [
        "## 🧪 Practical 16: Generate a discrete uniform distribution and plot PMF"
      ]
    },
    {
      "cell_type": "code",
      "execution_count": null,
      "id": "3664800e",
      "metadata": {
        "id": "3664800e"
      },
      "outputs": [],
      "source": [
        "x = range(1, 7)\n",
        "pmf = [1/6]*6\n",
        "plt.bar(x, pmf)\n",
        "plt.title('Discrete Uniform PMF')\n",
        "plt.show()"
      ]
    },
    {
      "cell_type": "markdown",
      "id": "08028d4f",
      "metadata": {
        "id": "08028d4f"
      },
      "source": [
        "## 🧪 Practical 17: Calculate the PDF of a Bernoulli distribution"
      ]
    },
    {
      "cell_type": "code",
      "execution_count": null,
      "id": "f4e7d9b5",
      "metadata": {
        "id": "f4e7d9b5"
      },
      "outputs": [],
      "source": [
        "x = [0, 1]\n",
        "probs = bernoulli.pmf(x, 0.5)\n",
        "print(dict(zip(x, probs)))"
      ]
    },
    {
      "cell_type": "markdown",
      "id": "8c6d9141",
      "metadata": {
        "id": "8c6d9141"
      },
      "source": [
        "## 🧪 Practical 18: Simulate a binomial distribution and plot histogram"
      ]
    },
    {
      "cell_type": "code",
      "execution_count": null,
      "id": "9a6a589a",
      "metadata": {
        "id": "9a6a589a"
      },
      "outputs": [],
      "source": [
        "n, p = 10, 0.5\n",
        "binom_data = np.random.binomial(n, p, 1000)\n",
        "plt.hist(binom_data, bins=range(0, 12), edgecolor='black', density=True)\n",
        "plt.title('Binomial Distribution (n=10, p=0.5)')\n",
        "plt.xlabel('Successes')\n",
        "plt.ylabel('Frequency')\n",
        "plt.show()"
      ]
    },
    {
      "cell_type": "markdown",
      "id": "ebfe1de9",
      "metadata": {
        "id": "ebfe1de9"
      },
      "source": [
        "## 🧪 Practical 19: Create a Poisson distribution and visualize it"
      ]
    },
    {
      "cell_type": "code",
      "execution_count": null,
      "id": "50e61538",
      "metadata": {
        "id": "50e61538"
      },
      "outputs": [],
      "source": [
        "x = np.arange(0, 15)\n",
        "mu = 3\n",
        "pmf = poisson.pmf(x, mu)\n",
        "plt.bar(x, pmf)\n",
        "plt.title('Poisson Distribution (mu=3)')\n",
        "plt.xlabel('Number of Events')\n",
        "plt.ylabel('Probability')\n",
        "plt.show()"
      ]
    },
    {
      "cell_type": "markdown",
      "id": "e85967f8",
      "metadata": {
        "id": "e85967f8"
      },
      "source": [
        "## 🧪 Practical 20: Calculate and plot the CDF of a discrete uniform distribution"
      ]
    },
    {
      "cell_type": "code",
      "execution_count": null,
      "id": "73305dc0",
      "metadata": {
        "id": "73305dc0"
      },
      "outputs": [],
      "source": [
        "cdf = [sum(pmf[:i+1]) for i in range(len(pmf))]\n",
        "plt.step(range(1,7), cdf, where='mid')\n",
        "plt.title('CDF of Discrete Uniform Distribution')\n",
        "plt.grid(True)\n",
        "plt.show()"
      ]
    },
    {
      "cell_type": "markdown",
      "id": "85155cb6",
      "metadata": {
        "id": "85155cb6"
      },
      "source": [
        "## 🧪 Practical 21: Generate a continuous uniform distribution and visualize it"
      ]
    },
    {
      "cell_type": "code",
      "execution_count": null,
      "id": "3426f8b7",
      "metadata": {
        "id": "3426f8b7"
      },
      "outputs": [],
      "source": [
        "samples = np.random.uniform(0, 1, 1000)\n",
        "plt.hist(samples, bins=20, edgecolor='black')\n",
        "plt.title('Continuous Uniform Distribution')\n",
        "plt.show()"
      ]
    },
    {
      "cell_type": "markdown",
      "id": "67337daf",
      "metadata": {
        "id": "67337daf"
      },
      "source": [
        "## 🧪 Practical 22: Simulate data from a normal distribution and plot its histogram"
      ]
    },
    {
      "cell_type": "code",
      "execution_count": null,
      "id": "924f0006",
      "metadata": {
        "id": "924f0006"
      },
      "outputs": [],
      "source": [
        "data = np.random.normal(loc=0, scale=1, size=1000)\n",
        "plt.hist(data, bins=30, edgecolor='black')\n",
        "plt.title('Normal Distribution')\n",
        "plt.show()"
      ]
    },
    {
      "cell_type": "markdown",
      "id": "0f268baa",
      "metadata": {
        "id": "0f268baa"
      },
      "source": [
        "## 🧪 Practical 23: Calculate Z-scores from a dataset and plot them"
      ]
    },
    {
      "cell_type": "code",
      "execution_count": null,
      "id": "ab868ebf",
      "metadata": {
        "id": "ab868ebf"
      },
      "outputs": [],
      "source": [
        "z_scores = zscore(data)\n",
        "plt.plot(z_scores, '.')\n",
        "plt.title('Z-Scores')\n",
        "plt.grid(True)\n",
        "plt.show()"
      ]
    },
    {
      "cell_type": "markdown",
      "id": "e54a34b1",
      "metadata": {
        "id": "e54a34b1"
      },
      "source": [
        "## 🧪 Practical 24: Implement the Central Limit Theorem (CLT)"
      ]
    },
    {
      "cell_type": "code",
      "execution_count": null,
      "id": "68f7a00d",
      "metadata": {
        "id": "68f7a00d"
      },
      "outputs": [],
      "source": [
        "sample_means = []\n",
        "for _ in range(1000):\n",
        "    sample = np.random.exponential(scale=2, size=30)\n",
        "    sample_means.append(np.mean(sample))\n",
        "plt.hist(sample_means, bins=30, edgecolor='black')\n",
        "plt.title('CLT Demonstration')\n",
        "plt.show()"
      ]
    },
    {
      "cell_type": "markdown",
      "id": "1e1f2258",
      "metadata": {
        "id": "1e1f2258"
      },
      "source": [
        "## 🧪 Practical 25: Simulate normal samples and verify CLT"
      ]
    },
    {
      "cell_type": "code",
      "execution_count": null,
      "id": "d07c67d4",
      "metadata": {
        "id": "d07c67d4"
      },
      "outputs": [],
      "source": [
        "means = [np.mean(np.random.normal(0, 1, 30)) for _ in range(1000)]\n",
        "plt.hist(means, bins=30)\n",
        "plt.title('CLT with Normal')\n",
        "plt.show()"
      ]
    },
    {
      "cell_type": "markdown",
      "id": "9134f7b5",
      "metadata": {
        "id": "9134f7b5"
      },
      "source": [
        "## 🧪 Practical 26: Plot the standard normal distribution"
      ]
    },
    {
      "cell_type": "code",
      "execution_count": null,
      "id": "c575f136",
      "metadata": {
        "id": "c575f136"
      },
      "outputs": [],
      "source": [
        "x = np.linspace(-4, 4, 1000)\n",
        "plt.plot(x, norm.pdf(x))\n",
        "plt.title('Standard Normal')\n",
        "plt.show()"
      ]
    },
    {
      "cell_type": "markdown",
      "id": "d616af4f",
      "metadata": {
        "id": "d616af4f"
      },
      "source": [
        "## 🧪 Practical 27: Calculate binomial probabilities"
      ]
    },
    {
      "cell_type": "code",
      "execution_count": null,
      "id": "aa758a31",
      "metadata": {
        "id": "aa758a31"
      },
      "outputs": [],
      "source": [
        "print(binom.pmf(5, 10, 0.5))"
      ]
    },
    {
      "cell_type": "markdown",
      "id": "53672005",
      "metadata": {
        "id": "53672005"
      },
      "source": [
        "## 🧪 Practical 28: Calculate Z-score for a value and compare to normal"
      ]
    },
    {
      "cell_type": "code",
      "execution_count": null,
      "id": "7b1c2e23",
      "metadata": {
        "id": "7b1c2e23"
      },
      "outputs": [],
      "source": [
        "value, mean, std = 75, 70, 5\n",
        "z = (value - mean) / std\n",
        "print('Z:', z)"
      ]
    }
  ],
  "metadata": {
    "colab": {
      "provenance": []
    }
  },
  "nbformat": 4,
  "nbformat_minor": 5
}